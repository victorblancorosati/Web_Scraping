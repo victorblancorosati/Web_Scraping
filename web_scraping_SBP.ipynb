{
 "cells": [
  {
   "cell_type": "markdown",
   "id": "8f316cb8",
   "metadata": {},
   "source": [
    "# Web Scrapping de información de la SBP"
   ]
  },
  {
   "cell_type": "code",
   "execution_count": 11,
   "id": "df60a6c9",
   "metadata": {},
   "outputs": [],
   "source": [
    "import wget\n",
    "import requests"
   ]
  },
  {
   "cell_type": "markdown",
   "id": "3c808f27",
   "metadata": {},
   "source": [
    "# Descargar de Balance General"
   ]
  },
  {
   "cell_type": "code",
   "execution_count": 2,
   "id": "12420c0a",
   "metadata": {},
   "outputs": [],
   "source": [
    "# Cambiar mes y año\n",
    "año_mes = '2022/10/'\n",
    "dir1 = 'https://www.superbancos.gob.pa/superbancos/documentos/financiera_y_estadistica/reportes_estadisticos/'"
   ]
  },
  {
   "cell_type": "code",
   "execution_count": 7,
   "id": "47db33fc",
   "metadata": {},
   "outputs": [],
   "source": [
    "segmentos = ['CBI', 'SBN', 'BOL', 'BPV', 'BEP', 'BIL', 'BPA', 'BPP']"
   ]
  },
  {
   "cell_type": "code",
   "execution_count": 13,
   "id": "acb56f4f",
   "metadata": {},
   "outputs": [],
   "source": [
    "def balance_segmento(segmento):\n",
    "    dir3 = 'balance_ambito_nacional/RE-BALANCE-en-'\n",
    "    dir4 = segmento\n",
    "    dir5 = '.xlsx'\n",
    "    directorio = 'C:/1 Benchmarking/'\n",
    "    url = dir1 + año_mes + dir3 + dir4 + dir5\n",
    "    wget.download(url, directorio + dir4 + dir5)\n",
    "    #print(url)"
   ]
  },
  {
   "cell_type": "code",
   "execution_count": 46,
   "id": "064f837e",
   "metadata": {},
   "outputs": [],
   "source": [
    "for segmento in segmentos:\n",
    "    balance_segmento(segmento)"
   ]
  },
  {
   "cell_type": "markdown",
   "id": "ccb8a476",
   "metadata": {},
   "source": [
    "## Descargar Balance General por Banco"
   ]
  },
  {
   "cell_type": "code",
   "execution_count": 37,
   "id": "01b29df3",
   "metadata": {},
   "outputs": [],
   "source": [
    "bancos = [ 'Nacional', 'Cajahorros', 'Allbank', 'Bac', 'Aliado', 'Azteca', 'Davivienda', 'Bogotasuc'\n",
    "          ,'Delta', 'FICOGRAL', 'General', 'Bicsa', 'Hipotecaria', 'Lafise','Bladex', 'Pichincha'\n",
    "          ,'BcoPrival', 'Bancolopanama', 'Banescosa', 'Banisi', 'Banistmosa', 'China', 'BBPbank'\n",
    "          ,'BCTBankIntSA', 'bibank', 'Canal', 'CapitalBank', 'Citi', 'Credicorp', 'fpbbank', 'Global'\n",
    "          ,'ICBCL', 'Korea', 'ICBC', 'MercantilPanama', 'Metrobank', 'MMG', 'Multibanksub', 'Pacificogral'\n",
    "          ,'ScotiaPanama', 'Stgeorge', 'Scotia', 'ScotiaPrivate', 'Tower', 'Unibank']"
   ]
  },
  {
   "cell_type": "code",
   "execution_count": 29,
   "id": "a953df6e",
   "metadata": {},
   "outputs": [],
   "source": [
    "def balance_individual(banco):\n",
    "    dir3 = 'balance_individual_por_banco/'\n",
    "    dir4 = 'RE-BALANCE-BANCO-en-'\n",
    "    dir5 = banco\n",
    "    dir6 = '.xlsx'\n",
    "    directorio = 'C:/1 Benchmarking/BANCO_en_'\n",
    "    url = dir1 + año_mes + dir3 + dir4 + dir5 + dir6\n",
    "    wget.download(url, directorio + dir5 + dir6)\n",
    "  #  print(url)"
   ]
  },
  {
   "cell_type": "code",
   "execution_count": 47,
   "id": "85744d87",
   "metadata": {},
   "outputs": [],
   "source": [
    "for banco in bancos:\n",
    "    balance_individual(banco)"
   ]
  },
  {
   "cell_type": "code",
   "execution_count": 39,
   "id": "03a937f8",
   "metadata": {},
   "outputs": [],
   "source": [
    "# Licencia Internacional"
   ]
  },
  {
   "cell_type": "code",
   "execution_count": 42,
   "id": "6e964bba",
   "metadata": {},
   "outputs": [],
   "source": [
    "licencias = [  'Atlantic', 'Austrobank', 'ASBbank', 'Bacbank', 'andorra', 'BCreditoAndorra', 'Davint'\n",
    "            , 'Bogotaint', 'CreditoPeru', 'Occidente', 'InterPeru', 'Bancolombia', 'BHDint', 'BPR'\n",
    "            , 'GNB', 'GTC', 'Inteligo', 'Itau', 'PKB Banca', 'Popular', 'TAG']"
   ]
  },
  {
   "cell_type": "code",
   "execution_count": 44,
   "id": "532e4246",
   "metadata": {},
   "outputs": [],
   "source": [
    "def balance_licencia(licencia):\n",
    "    dir3 = 'balance_individual_por_banco/'\n",
    "    dir4 = 'RE-BALANCE-BANCO-en-'\n",
    "    dir5 = licencia\n",
    "    dir6 = '.xlsx'\n",
    "    directorio = 'C:/1 Benchmarking/licencia_internacional/BANCO_en_'\n",
    "    url = dir1 + año_mes + dir3 + dir4 + dir5 + dir6\n",
    "    wget.download(url, directorio + dir5 + dir6)\n",
    "  #  print(url)"
   ]
  },
  {
   "cell_type": "code",
   "execution_count": 45,
   "id": "7f893bd6",
   "metadata": {},
   "outputs": [],
   "source": [
    "for licencia in licencias:\n",
    "    balance_licencia(licencia)"
   ]
  }
 ],
 "metadata": {
  "kernelspec": {
   "display_name": "Python 3",
   "language": "python",
   "name": "python3"
  },
  "language_info": {
   "codemirror_mode": {
    "name": "ipython",
    "version": 3
   },
   "file_extension": ".py",
   "mimetype": "text/x-python",
   "name": "python",
   "nbconvert_exporter": "python",
   "pygments_lexer": "ipython3",
   "version": "3.8.8"
  }
 },
 "nbformat": 4,
 "nbformat_minor": 5
}
